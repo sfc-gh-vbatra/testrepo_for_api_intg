{
 "metadata": {
  "kernelspec": {
   "display_name": "Streamlit Notebook",
   "name": "streamlit"
  }
 },
 "nbformat_minor": 5,
 "nbformat": 4,
 "cells": [
  {
   "cell_type": "code",
   "id": "2a609d6f-f3de-4b32-9731-1411db287f9f",
   "metadata": {
    "language": "python",
    "name": "cell12",
    "collapsed": false
   },
   "outputs": [],
   "source": "import warnings\nwarnings.filterwarnings(\"ignore\")\n\nfrom snowflake.snowpark.context import get_active_session\nsession = get_active_session()",
   "execution_count": null
  },
  {
   "cell_type": "code",
   "id": "e6b51bc3-e121-4b6c-a84f-20f04eb1f28a",
   "metadata": {
    "language": "python",
    "name": "pip_freeze",
    "collapsed": false
   },
   "outputs": [],
   "source": "!pip freeze",
   "execution_count": null
  },
  {
   "cell_type": "code",
   "id": "01982269-5dac-46a6-8af6-2b495e65862f",
   "metadata": {
    "language": "python",
    "name": "install_seaborn"
   },
   "outputs": [],
   "source": "!pip install seaborn",
   "execution_count": null
  },
  {
   "cell_type": "code",
   "id": "78126cdd-9f6e-4524-ac92-b12d915255ae",
   "metadata": {
    "language": "sql",
    "name": "cell4",
    "collapsed": false
   },
   "outputs": [],
   "source": "show tables;",
   "execution_count": null
  },
  {
   "cell_type": "code",
   "id": "23f0f888-3d70-42c4-9071-bc366c861a52",
   "metadata": {
    "language": "python",
    "name": "cell2",
    "collapsed": false
   },
   "outputs": [],
   "source": "diamonds_df = session.table(\"DIAMONDS\")\ndiamonds_df.show()",
   "execution_count": null
  },
  {
   "cell_type": "code",
   "id": "b781bc3b-ce7a-4754-b1aa-1aeabf924302",
   "metadata": {
    "language": "sql",
    "name": "cell1",
    "collapsed": false
   },
   "outputs": [],
   "source": "select current_timestamp();\n\n\n\n\n\n",
   "execution_count": null
  },
  {
   "cell_type": "code",
   "id": "63e2849a-df59-45d2-81e1-14b7880601fc",
   "metadata": {
    "language": "python",
    "name": "cell3"
   },
   "outputs": [],
   "source": "df = diamonds_df.to_pandas()\n\nimport seaborn as sns\n\n# Create a visualization\nsns.histplot(\n    data=df,\n    x=\"PRICE\"\n)",
   "execution_count": null
  },
  {
   "cell_type": "code",
   "id": "53aad007-803a-4120-b227-596caa842cba",
   "metadata": {
    "language": "python",
    "name": "cell6"
   },
   "outputs": [],
   "source": "import time\nfrom snowflake.ml.modeling.xgboost import XGBRegressor\n\nCATEGORICAL_COLUMNS = [\"CUT\", \"COLOR\", \"CLARITY\"]\nNUMERICAL_COLUMNS = [\"CARAT\", \"DEPTH\", \"X\", \"Y\", \"Z\"]\nLABEL_COLUMNS = ['PRICE']\ndiamonds_df = session.table(\"diamonds\")\n\nmodel = XGBRegressor(max_depth=400, input_cols=NUMERICAL_COLUMNS, label_cols=LABEL_COLUMNS)\n\nt0 = time.time()\nmodel.fit(diamonds_df)\n\nt1 = time.time()\n\nprint(f\"Fit in {t1-t0} seconds.\")",
   "execution_count": null
  },
  {
   "cell_type": "code",
   "id": "b757df0f-2da4-49f4-a17b-901fe5223d7f",
   "metadata": {
    "language": "python",
    "name": "cell7"
   },
   "outputs": [],
   "source": "import time\nfrom snowflake.ml.modeling.xgboost import XGBRegressor\n\nCATEGORICAL_COLUMNS = [\"CUT\", \"COLOR\", \"CLARITY\"]\nNUMERICAL_COLUMNS = [\"CARAT\", \"DEPTH\", \"X\", \"Y\", \"Z\"]\nLABEL_COLUMNS = ['PRICE']\ndiamonds_df = session.table(\"diamonds\")\n\nmodel = XGBRegressor(max_depth=400, input_cols=NUMERICAL_COLUMNS, label_cols=LABEL_COLUMNS, tree_method=\"gpu_hist\", gpu_id=0)\n\nt0 = time.time()\nmodel.fit(diamonds_df)\n\nt1 = time.time()\n\nprint(f\"Fit in {t1-t0} seconds with GPU.\")",
   "execution_count": null
  },
  {
   "cell_type": "code",
   "id": "63126a6a-3c5c-4877-8b69-3e31e65e6587",
   "metadata": {
    "language": "python",
    "name": "cell10"
   },
   "outputs": [],
   "source": "# utils\nimport requests\n\n### Get logs depending on type\ndef fetch_log(log_type):\n    file_path = f'/var/log/managedservices/{log_type}/mlrs/logs-mlrs.log'\n    with open(file_path, 'r') as file:\n        # Read the contents of the file\n        file_contents = file.read()\n        return file_contents\n\n### Get response text\ndef fetch_metrics(port):\n    metrics_url = f\"http://localhost:{port}/metrics\"\n    response = requests.get(metrics_url)\n    return response.text\n\ndef list_mlrs_metrics():\n    txt = fetch_metrics(11501)\n    metrics_name_and_value = {}\n    for line in txt.split(\"\\n\")[:-1]:\n        if not line.startswith(\"#\"):\n            tokens = line.split(\" \")\n            name, value = tokens[0], tokens[1]\n            metrics_name_and_value[name] = value\n        elif line.startswith(\"# HELP\"):\n            tokens = line.split(\" \")\n    return metrics_name_and_value",
   "execution_count": null
  },
  {
   "cell_type": "code",
   "id": "c655b9b5-f07f-4906-9530-761145ded013",
   "metadata": {
    "language": "python",
    "name": "cell13"
   },
   "outputs": [],
   "source": "print(\"train attempt\", list_mlrs_metrics()['train_attempts_total'])",
   "execution_count": null
  }
 ]
}